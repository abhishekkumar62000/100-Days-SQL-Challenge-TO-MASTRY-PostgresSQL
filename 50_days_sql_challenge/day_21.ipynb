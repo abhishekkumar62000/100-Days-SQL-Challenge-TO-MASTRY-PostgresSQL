{
 "cells": [
  {
   "cell_type": "code",
   "execution_count": 56,
   "metadata": {},
   "outputs": [],
   "source": [
    "# Question 1\n",
    "# Q.1 How do you reverse a string in Python? \n",
    "# reverse the below string hw\n",
    "hw = 'dlroW olleH'"
   ]
  },
  {
   "cell_type": "code",
   "execution_count": 62,
   "metadata": {},
   "outputs": [
    {
     "data": {
      "text/plain": [
       "'Hello World'"
      ]
     },
     "execution_count": 62,
     "metadata": {},
     "output_type": "execute_result"
    }
   ],
   "source": [
    "hw[::-1]"
   ]
  },
  {
   "cell_type": "code",
   "execution_count": 30,
   "metadata": {},
   "outputs": [
    {
     "data": {
      "text/plain": [
       "'dlroW olleH'"
      ]
     },
     "execution_count": 30,
     "metadata": {},
     "output_type": "execute_result"
    }
   ],
   "source": [
    "hw1 = hw[::-1]\n",
    "\n",
    "hw1[::-1]"
   ]
  },
  {
   "cell_type": "code",
   "execution_count": null,
   "metadata": {},
   "outputs": [],
   "source": [
    "# Question 1\n",
    "\n",
    "\"\"\"\n",
    " Q2\n",
    "From the below list of strings, write a function \n",
    "to filter and display only the entries where the \n",
    "order status is \"completed\". You are not allowed \n",
    "to use a user-defined function.\n",
    "\"\"\"\n",
    "\n",
    "\n",
    "orders = [\n",
    "    \"1,1000,completed,2024-07-01\",\n",
    "    \"2,500,pending,2024-07-02\",\n",
    "    \"1,300,completed,2024-07-03\",\n",
    "    \"3,50,cancelled,2024-07-04\",\n",
    "    \"2,150,completed,2024-07-05\",\n",
    "    \"1,75,pending,2024-07-06\",\n",
    "    \"4,200,completed,2024-07-07\",\n",
    "    \"5,120,shipped,2024-07-08\",\n",
    "    \"7,200,cancelled,2024-07-07\",\n",
    "    \"8,120,cancelled,2024-07-08\"\n",
    "]"
   ]
  },
  {
   "cell_type": "code",
   "execution_count": 40,
   "metadata": {},
   "outputs": [
    {
     "data": {
      "text/plain": [
       "True"
      ]
     },
     "execution_count": 40,
     "metadata": {},
     "output_type": "execute_result"
    }
   ],
   "source": [
    "order = orders[0].split(',')\n",
    "\n",
    "order[2] \n",
    "\n",
    "orders[0].split(',')[2] == 'completed'\n"
   ]
  },
  {
   "cell_type": "code",
   "execution_count": 44,
   "metadata": {},
   "outputs": [
    {
     "name": "stdout",
     "output_type": "stream",
     "text": [
      "['1,1000,completed,2024-07-01', '1,300,completed,2024-07-03', '2,150,completed,2024-07-05', '4,200,completed,2024-07-07']\n"
     ]
    }
   ],
   "source": [
    "completed_orders = list(filter(lambda x: x.split(',')[2] == 'completed',orders))\n",
    "print(completed_orders)"
   ]
  },
  {
   "cell_type": "code",
   "execution_count": 53,
   "metadata": {},
   "outputs": [
    {
     "data": {
      "text/plain": [
       "-3"
      ]
     },
     "execution_count": 53,
     "metadata": {},
     "output_type": "execute_result"
    }
   ],
   "source": [
    "# lambda\n",
    "\n",
    "fun1 = lambda x: x* 20\n",
    "# x = 5\n",
    "# fun1(x)\n",
    "\n",
    "fun2 = lambda a, b: (a - b)\n",
    "\n",
    "fun2(2, 5)"
   ]
  },
  {
   "cell_type": "code",
   "execution_count": 65,
   "metadata": {},
   "outputs": [],
   "source": [
    "# end"
   ]
  },
  {
   "cell_type": "code",
   "execution_count": null,
   "metadata": {},
   "outputs": [],
   "source": []
  }
 ],
 "metadata": {
  "kernelspec": {
   "display_name": "Python 3",
   "language": "python",
   "name": "python3"
  },
  "language_info": {
   "codemirror_mode": {
    "name": "ipython",
    "version": 3
   },
   "file_extension": ".py",
   "mimetype": "text/x-python",
   "name": "python",
   "nbconvert_exporter": "python",
   "pygments_lexer": "ipython3",
   "version": "3.12.4"
  }
 },
 "nbformat": 4,
 "nbformat_minor": 2
}
